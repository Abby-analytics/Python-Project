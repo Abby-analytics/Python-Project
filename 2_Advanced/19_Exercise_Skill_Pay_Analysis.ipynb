{
 "cells": [
  {
   "cell_type": "code",
   "execution_count": 51,
   "id": "df74a9ab",
   "metadata": {},
   "outputs": [
    {
     "name": "stderr",
     "output_type": "stream",
     "text": [
      "Using the latest cached version of the dataset since lukebarousse/data_jobs couldn't be found on the Hugging Face Hub\n",
      "Found the latest cached dataset configuration 'default' at C:\\Users\\user\\.cache\\huggingface\\datasets\\lukebarousse___data_jobs\\default\\0.0.0\\ed776e5a0a8c40ea9d5efbd800772ae52e140f3e (last modified on Tue Jun 10 20:06:45 2025).\n"
     ]
    }
   ],
   "source": [
    "import ast\n",
    "import pandas as pd\n",
    "from datasets import load_dataset\n",
    "import matplotlib.pyplot as plt\n",
    "\n",
    "#Load_Data\n",
    "dataset = load_dataset('lukebarousse/data_jobs')\n",
    "df = dataset['train'].to_pandas()\n",
    "\n",
    "# Date_CleanUp\n",
    "df['job_posted_date'] = pd.to_datetime(df['job_posted_date'])\n",
    "df['job_skills'] = df['job_skills'].apply(lambda x: ast.literal_eval(x) if pd.notna(x) else x)"
   ]
  },
  {
   "cell_type": "code",
   "execution_count": 52,
   "id": "d4cd7c7f",
   "metadata": {},
   "outputs": [],
   "source": [
    "# Data Scientist Jobs In UK\n",
    "\n",
    "df_DS_UK = df[(df['job_title_short']=='Data Scientist') & (df['job_country']=='United Kingdom')].copy()\n",
    "\n",
    "#Drop NaN Values from the column for plotting\n",
    "df_DS_UK = df_DS_UK.dropna(subset=['salary_year_avg'])"
   ]
  },
  {
   "cell_type": "code",
   "execution_count": 53,
   "id": "b4e73400",
   "metadata": {},
   "outputs": [
    {
     "data": {
      "text/html": [
       "<div>\n",
       "<style scoped>\n",
       "    .dataframe tbody tr th:only-of-type {\n",
       "        vertical-align: middle;\n",
       "    }\n",
       "\n",
       "    .dataframe tbody tr th {\n",
       "        vertical-align: top;\n",
       "    }\n",
       "\n",
       "    .dataframe thead th {\n",
       "        text-align: right;\n",
       "    }\n",
       "</style>\n",
       "<table border=\"1\" class=\"dataframe\">\n",
       "  <thead>\n",
       "    <tr style=\"text-align: right;\">\n",
       "      <th></th>\n",
       "      <th>salary_year_avg</th>\n",
       "      <th>job_skills</th>\n",
       "    </tr>\n",
       "  </thead>\n",
       "  <tbody>\n",
       "    <tr>\n",
       "      <th>1107</th>\n",
       "      <td>157500.0</td>\n",
       "      <td>python</td>\n",
       "    </tr>\n",
       "    <tr>\n",
       "      <th>1107</th>\n",
       "      <td>157500.0</td>\n",
       "      <td>numpy</td>\n",
       "    </tr>\n",
       "    <tr>\n",
       "      <th>1107</th>\n",
       "      <td>157500.0</td>\n",
       "      <td>pandas</td>\n",
       "    </tr>\n",
       "    <tr>\n",
       "      <th>1107</th>\n",
       "      <td>157500.0</td>\n",
       "      <td>scikit-learn</td>\n",
       "    </tr>\n",
       "    <tr>\n",
       "      <th>13764</th>\n",
       "      <td>109500.0</td>\n",
       "      <td>excel</td>\n",
       "    </tr>\n",
       "    <tr>\n",
       "      <th>...</th>\n",
       "      <td>...</td>\n",
       "      <td>...</td>\n",
       "    </tr>\n",
       "    <tr>\n",
       "      <th>783436</th>\n",
       "      <td>72900.0</td>\n",
       "      <td>keras</td>\n",
       "    </tr>\n",
       "    <tr>\n",
       "      <th>783436</th>\n",
       "      <td>72900.0</td>\n",
       "      <td>tensorflow</td>\n",
       "    </tr>\n",
       "    <tr>\n",
       "      <th>783436</th>\n",
       "      <td>72900.0</td>\n",
       "      <td>tableau</td>\n",
       "    </tr>\n",
       "    <tr>\n",
       "      <th>783436</th>\n",
       "      <td>72900.0</td>\n",
       "      <td>flow</td>\n",
       "    </tr>\n",
       "    <tr>\n",
       "      <th>783436</th>\n",
       "      <td>72900.0</td>\n",
       "      <td>jira</td>\n",
       "    </tr>\n",
       "  </tbody>\n",
       "</table>\n",
       "<p>365 rows × 2 columns</p>\n",
       "</div>"
      ],
      "text/plain": [
       "        salary_year_avg    job_skills\n",
       "1107           157500.0        python\n",
       "1107           157500.0         numpy\n",
       "1107           157500.0        pandas\n",
       "1107           157500.0  scikit-learn\n",
       "13764          109500.0         excel\n",
       "...                 ...           ...\n",
       "783436          72900.0         keras\n",
       "783436          72900.0    tensorflow\n",
       "783436          72900.0       tableau\n",
       "783436          72900.0          flow\n",
       "783436          72900.0          jira\n",
       "\n",
       "[365 rows x 2 columns]"
      ]
     },
     "execution_count": 53,
     "metadata": {},
     "output_type": "execute_result"
    }
   ],
   "source": [
    "df_DS_UK = df_DS_UK.explode('job_skills')\n",
    "\n",
    "df_DS_UK[['salary_year_avg', 'job_skills']]"
   ]
  },
  {
   "cell_type": "code",
   "execution_count": 14,
   "id": "dcf4401f",
   "metadata": {},
   "outputs": [],
   "source": [
    "df_DS_UK = df_DS_UK.groupby('job_skills')['salary_year_avg'].agg(['count', 'median'])"
   ]
  },
  {
   "cell_type": "code",
   "execution_count": 38,
   "id": "5cd63ee3",
   "metadata": {},
   "outputs": [],
   "source": [
    "df_DS_top_pay = df_DS_UK.sort_values(by='median', ascending=False).head(10).sort_values(by='median', ascending=True)"
   ]
  },
  {
   "cell_type": "code",
   "execution_count": 39,
   "id": "882d6ead",
   "metadata": {},
   "outputs": [],
   "source": [
    "df_DS_skills = df_DS_UK.sort_values(by='count', ascending=False).head(10).sort_values(by='median', ascending=True)"
   ]
  },
  {
   "cell_type": "code",
   "execution_count": 36,
   "id": "920bebc8",
   "metadata": {},
   "outputs": [
    {
     "name": "stdout",
     "output_type": "stream",
     "text": [
      "            count    median\n",
      "job_skills                 \n",
      "excel          11   80850.0\n",
      "aws            22   88128.0\n",
      "pandas          9   88128.0\n",
      "numpy           9   88128.0\n",
      "python         50   89885.0\n",
      "sql            46   97985.0\n",
      "tableau        15  111500.0\n",
      "r              18  113360.5\n",
      "looker          9  113500.0\n",
      "gcp             9  131867.0\n",
      "            count    median\n",
      "job_skills                 \n",
      "scala           1  205000.0\n",
      "word            1  165000.0\n",
      "redshift        2  162500.0\n",
      "keras           3  160000.0\n",
      "pyspark         1  160000.0\n",
      "java            1  157500.0\n",
      "power bi        8  145030.0\n",
      "windows         1  139216.0\n",
      "github          3  139216.0\n",
      "oracle          4  135500.0\n"
     ]
    }
   ],
   "source": [
    "print(df_DS_skills)\n",
    "\n",
    "print(df_DS_top_pay)"
   ]
  },
  {
   "cell_type": "code",
   "execution_count": 48,
   "id": "80be0ff1",
   "metadata": {},
   "outputs": [
    {
     "data": {
      "image/png": "[encoded data removed]",
      "text/plain": [
       "<Figure size 640x480 with 2 Axes>"
      ]
     },
     "metadata": {},
     "output_type": "display_data"
    }
   ],
   "source": [
    "fig, ax = plt.subplots(2,1)\n",
    "\n",
    "df_DS_top_pay.plot(kind='barh', y='median', ax=ax[1], legend=False)\n",
    "ax[1].set_title('Top 10 Highest Paid Skills for Data Scientist')\n",
    "ax[1].set_ylabel('')\n",
    "ax[1].set_xlabel('')\n",
    "ax[1].xaxis.set_major_formatter(plt.FuncFormatter(lambda x, _: f'${int(x/1000)}K'))\n",
    "#[::-1]\n",
    "\n",
    "df_DS_skills.plot(kind='barh', y='median', ax=ax[0], legend=False)\n",
    "ax[0].set_title('Top 10 Most In-Demand Skills for Data Scientist')\n",
    "ax[0].set_ylabel('')\n",
    "ax[0].set_xlabel('Median Salary (USD)')\n",
    "ax[0].xaxis.set_major_formatter(plt.FuncFormatter(lambda x, _: f'${int(x/1000)}K'))\n",
    "ax[0].set_xlim(ax[1].get_xlim())\n",
    "\n",
    "fig.tight_layout()"
   ]
  },
  {
   "cell_type": "code",
   "execution_count": null,
   "id": "6f97cc9b",
   "metadata": {},
   "outputs": [],
   "source": []
  }
 ],
 "metadata": {
  "kernelspec": {
   "display_name": "python_course",
   "language": "python",
   "name": "python3"
  },
  "language_info": {
   "codemirror_mode": {
    "name": "ipython",
    "version": 3
   },
   "file_extension": ".py",
   "mimetype": "text/x-python",
   "name": "python",
   "nbconvert_exporter": "python",
   "pygments_lexer": "ipython3",
   "version": "3.11.13"
  }
 },
 "nbformat": 4,
 "nbformat_minor": 5
}
